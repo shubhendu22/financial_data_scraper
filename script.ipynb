{
 "cells": [
  {
   "cell_type": "code",
   "execution_count": 1,
   "metadata": {},
   "outputs": [],
   "source": [
    "import pandas as pd\n",
    "import yfinance as yf\n",
    "from yahoofinancials import YahooFinancials"
   ]
  },
  {
   "cell_type": "code",
   "execution_count": 2,
   "metadata": {},
   "outputs": [
    {
     "name": "stdout",
     "output_type": "stream",
     "text": [
      "[*********************100%***********************]  1 of 1 completed\n"
     ]
    }
   ],
   "source": [
    "aapl_df = yf.download('AAPL')"
   ]
  },
  {
   "cell_type": "code",
   "execution_count": 7,
   "metadata": {},
   "outputs": [
    {
     "data": {
      "text/html": [
       "<div>\n",
       "<style scoped>\n",
       "    .dataframe tbody tr th:only-of-type {\n",
       "        vertical-align: middle;\n",
       "    }\n",
       "\n",
       "    .dataframe tbody tr th {\n",
       "        vertical-align: top;\n",
       "    }\n",
       "\n",
       "    .dataframe thead th {\n",
       "        text-align: right;\n",
       "    }\n",
       "</style>\n",
       "<table border=\"1\" class=\"dataframe\">\n",
       "  <thead>\n",
       "    <tr style=\"text-align: right;\">\n",
       "      <th></th>\n",
       "      <th>Open</th>\n",
       "      <th>High</th>\n",
       "      <th>Low</th>\n",
       "      <th>Close</th>\n",
       "      <th>Volume</th>\n",
       "      <th>Dividends</th>\n",
       "      <th>Stock Splits</th>\n",
       "    </tr>\n",
       "    <tr>\n",
       "      <th>Date</th>\n",
       "      <th></th>\n",
       "      <th></th>\n",
       "      <th></th>\n",
       "      <th></th>\n",
       "      <th></th>\n",
       "      <th></th>\n",
       "      <th></th>\n",
       "    </tr>\n",
       "  </thead>\n",
       "  <tbody>\n",
       "    <tr>\n",
       "      <th>2017-04-26</th>\n",
       "      <td>34.100692</td>\n",
       "      <td>34.131379</td>\n",
       "      <td>33.843410</td>\n",
       "      <td>33.914219</td>\n",
       "      <td>80164800</td>\n",
       "      <td>0.0</td>\n",
       "      <td>0.0</td>\n",
       "    </tr>\n",
       "    <tr>\n",
       "      <th>2017-04-27</th>\n",
       "      <td>33.970883</td>\n",
       "      <td>34.027534</td>\n",
       "      <td>33.826899</td>\n",
       "      <td>33.940197</td>\n",
       "      <td>56985200</td>\n",
       "      <td>0.0</td>\n",
       "      <td>0.0</td>\n",
       "    </tr>\n",
       "    <tr>\n",
       "      <th>2017-04-28</th>\n",
       "      <td>34.011005</td>\n",
       "      <td>34.060575</td>\n",
       "      <td>33.817454</td>\n",
       "      <td>33.907146</td>\n",
       "      <td>83441600</td>\n",
       "      <td>0.0</td>\n",
       "      <td>0.0</td>\n",
       "    </tr>\n",
       "    <tr>\n",
       "      <th>2017-05-01</th>\n",
       "      <td>34.249413</td>\n",
       "      <td>34.745095</td>\n",
       "      <td>34.216367</td>\n",
       "      <td>34.598751</td>\n",
       "      <td>134411600</td>\n",
       "      <td>0.0</td>\n",
       "      <td>0.0</td>\n",
       "    </tr>\n",
       "    <tr>\n",
       "      <th>2017-05-02</th>\n",
       "      <td>34.825341</td>\n",
       "      <td>34.955164</td>\n",
       "      <td>34.660114</td>\n",
       "      <td>34.818260</td>\n",
       "      <td>181408800</td>\n",
       "      <td>0.0</td>\n",
       "      <td>0.0</td>\n",
       "    </tr>\n",
       "    <tr>\n",
       "      <th>...</th>\n",
       "      <td>...</td>\n",
       "      <td>...</td>\n",
       "      <td>...</td>\n",
       "      <td>...</td>\n",
       "      <td>...</td>\n",
       "      <td>...</td>\n",
       "      <td>...</td>\n",
       "    </tr>\n",
       "    <tr>\n",
       "      <th>2022-04-19</th>\n",
       "      <td>165.020004</td>\n",
       "      <td>167.820007</td>\n",
       "      <td>163.910004</td>\n",
       "      <td>167.399994</td>\n",
       "      <td>67723800</td>\n",
       "      <td>0.0</td>\n",
       "      <td>0.0</td>\n",
       "    </tr>\n",
       "    <tr>\n",
       "      <th>2022-04-20</th>\n",
       "      <td>168.759995</td>\n",
       "      <td>168.880005</td>\n",
       "      <td>166.100006</td>\n",
       "      <td>167.229996</td>\n",
       "      <td>67929800</td>\n",
       "      <td>0.0</td>\n",
       "      <td>0.0</td>\n",
       "    </tr>\n",
       "    <tr>\n",
       "      <th>2022-04-21</th>\n",
       "      <td>168.910004</td>\n",
       "      <td>171.529999</td>\n",
       "      <td>165.910004</td>\n",
       "      <td>166.419998</td>\n",
       "      <td>87227800</td>\n",
       "      <td>0.0</td>\n",
       "      <td>0.0</td>\n",
       "    </tr>\n",
       "    <tr>\n",
       "      <th>2022-04-22</th>\n",
       "      <td>166.460007</td>\n",
       "      <td>167.869995</td>\n",
       "      <td>161.500000</td>\n",
       "      <td>161.789993</td>\n",
       "      <td>84775200</td>\n",
       "      <td>0.0</td>\n",
       "      <td>0.0</td>\n",
       "    </tr>\n",
       "    <tr>\n",
       "      <th>2022-04-25</th>\n",
       "      <td>161.119995</td>\n",
       "      <td>163.169998</td>\n",
       "      <td>158.460007</td>\n",
       "      <td>162.880005</td>\n",
       "      <td>92824080</td>\n",
       "      <td>0.0</td>\n",
       "      <td>0.0</td>\n",
       "    </tr>\n",
       "  </tbody>\n",
       "</table>\n",
       "<p>1259 rows × 7 columns</p>\n",
       "</div>"
      ],
      "text/plain": [
       "                  Open        High         Low       Close     Volume  \\\n",
       "Date                                                                    \n",
       "2017-04-26   34.100692   34.131379   33.843410   33.914219   80164800   \n",
       "2017-04-27   33.970883   34.027534   33.826899   33.940197   56985200   \n",
       "2017-04-28   34.011005   34.060575   33.817454   33.907146   83441600   \n",
       "2017-05-01   34.249413   34.745095   34.216367   34.598751  134411600   \n",
       "2017-05-02   34.825341   34.955164   34.660114   34.818260  181408800   \n",
       "...                ...         ...         ...         ...        ...   \n",
       "2022-04-19  165.020004  167.820007  163.910004  167.399994   67723800   \n",
       "2022-04-20  168.759995  168.880005  166.100006  167.229996   67929800   \n",
       "2022-04-21  168.910004  171.529999  165.910004  166.419998   87227800   \n",
       "2022-04-22  166.460007  167.869995  161.500000  161.789993   84775200   \n",
       "2022-04-25  161.119995  163.169998  158.460007  162.880005   92824080   \n",
       "\n",
       "            Dividends  Stock Splits  \n",
       "Date                                 \n",
       "2017-04-26        0.0           0.0  \n",
       "2017-04-27        0.0           0.0  \n",
       "2017-04-28        0.0           0.0  \n",
       "2017-05-01        0.0           0.0  \n",
       "2017-05-02        0.0           0.0  \n",
       "...               ...           ...  \n",
       "2022-04-19        0.0           0.0  \n",
       "2022-04-20        0.0           0.0  \n",
       "2022-04-21        0.0           0.0  \n",
       "2022-04-22        0.0           0.0  \n",
       "2022-04-25        0.0           0.0  \n",
       "\n",
       "[1259 rows x 7 columns]"
      ]
     },
     "execution_count": 7,
     "metadata": {},
     "output_type": "execute_result"
    }
   ],
   "source": [
    "aapl_df"
   ]
  },
  {
   "cell_type": "code",
   "execution_count": 9,
   "metadata": {},
   "outputs": [
    {
     "name": "stdout",
     "output_type": "stream",
     "text": [
      "market price  998.02\n",
      "previous close price  1005.05\n"
     ]
    }
   ],
   "source": [
    "import yfinance as yf\n",
    "stock_info = yf.Ticker('TSLA').info\n",
    "# stock_info.keys() for other properties you can explore\n",
    "market_price = stock_info['regularMarketPrice']\n",
    "previous_close_price = stock_info['regularMarketPreviousClose']\n",
    "print('market price ', market_price)\n",
    "print('previous close price ', previous_close_price)"
   ]
  },
  {
   "cell_type": "code",
   "execution_count": 10,
   "metadata": {},
   "outputs": [
    {
     "data": {
      "text/plain": [
       "[<matplotlib.lines.Line2D at 0x261a104c2e0>]"
      ]
     },
     "execution_count": 10,
     "metadata": {},
     "output_type": "execute_result"
    },
    {
     "data": {
      "image/png": "[encoded data removed]",
      "text/plain": [
       "<Figure size 432x288 with 1 Axes>"
      ]
     },
     "metadata": {},
     "output_type": "display_data"
    }
   ],
   "source": [
    "import yfinance as yf\n",
    "import pendulum\n",
    "import matplotlib.pyplot as plt\n",
    "price_history = yf.Ticker('TSLA').history(period='2y', # valid periods: 1d,5d,1mo,3mo,6mo,1y,2y,5y,10y,ytd,max\n",
    "                                   interval='1wk', # valid intervals: 1m,2m,5m,15m,30m,60m,90m,1h,1d,5d,1wk,1mo,3mo\n",
    "                                   actions=False)\n",
    "time_series = list(price_history['Open'])\n",
    "dt_list = [pendulum.parse(str(dt)).float_timestamp for dt in list(price_history.index)]\n",
    "plt.style.use('dark_background')\n",
    "plt.plot(dt_list, time_series, linewidth=2)"
   ]
  },
  {
   "cell_type": "code",
   "execution_count": 13,
   "metadata": {},
   "outputs": [
    {
     "data": {
      "text/plain": [
       "[{'uuid': '89595aad-b799-3398-9337-ef1166ec0112',\n",
       "  'title': 'Dow Jones Gains As Tech Stocks Fight; Twitter Gains As Elon Musk Takes Control; Donald Trump SPAC Craters',\n",
       "  'publisher': \"Investor's Business Daily\",\n",
       "  'link': 'https://finance.yahoo.com/m/89595aad-b799-3398-9337-ef1166ec0112/dow-jones-gains-as-tech.html',\n",
       "  'providerPublishTime': 1650915121,\n",
       "  'type': 'STORY'},\n",
       " {'uuid': '865263b4-b1ef-3b0a-8bfc-4c3cda1089da',\n",
       "  'title': 'Is Snowflake Stock A Buy Or Sell Amid Software Sector Volatility?',\n",
       "  'publisher': \"Investor's Business Daily\",\n",
       "  'link': 'https://finance.yahoo.com/m/865263b4-b1ef-3b0a-8bfc-4c3cda1089da/is-snowflake-stock-a-buy-or.html',\n",
       "  'providerPublishTime': 1650909947,\n",
       "  'type': 'STORY'},\n",
       " {'uuid': 'd8fe16de-dd8b-357a-bd18-4f46639010b6',\n",
       "  'title': \"Is Microsoft Stock A Buy Before Software Giant's March-Quarter Report?\",\n",
       "  'publisher': \"Investor's Business Daily\",\n",
       "  'link': 'https://finance.yahoo.com/m/d8fe16de-dd8b-357a-bd18-4f46639010b6/is-microsoft-stock-a-buy.html',\n",
       "  'providerPublishTime': 1650907850,\n",
       "  'type': 'STORY'},\n",
       " {'uuid': 'ac45ed15-42df-3ea2-8897-7848f969c302',\n",
       "  'title': 'Crypto: Bitcoin under pressure, dogecoin up on Musk’s Twitter bid',\n",
       "  'publisher': 'Yahoo Finance Video',\n",
       "  'link': 'https://finance.yahoo.com/video/crypto-bitcoin-under-pressure-dogecoin-151059484.html',\n",
       "  'providerPublishTime': 1650899459,\n",
       "  'type': 'VIDEO'},\n",
       " {'uuid': '545af43d-6c32-3199-ae7a-00e52323c3dd',\n",
       "  'title': 'Meta to Open Retail Store to Showcase Virtual Reality Hardware',\n",
       "  'publisher': 'Bloomberg',\n",
       "  'link': 'https://finance.yahoo.com/news/meta-open-retail-store-showcase-150000799.html',\n",
       "  'providerPublishTime': 1650898800,\n",
       "  'type': 'STORY'},\n",
       " {'uuid': '866f5883-c770-3ee4-950a-6cab76380469',\n",
       "  'title': 'Big Tech earnings ‘will be a mixed bag,’ analyst says',\n",
       "  'publisher': 'Yahoo Finance Video',\n",
       "  'link': 'https://finance.yahoo.com/video/big-tech-earnings-mixed-bag-144239030.html',\n",
       "  'providerPublishTime': 1650897759,\n",
       "  'type': 'VIDEO'},\n",
       " {'uuid': '481e9e27-699c-3cc5-af2a-cd9159826fe5',\n",
       "  'title': 'Energy stocks decline, Coca-Cola stock gains on earnings, Tesla stock dips',\n",
       "  'publisher': 'Yahoo Finance Video',\n",
       "  'link': 'https://finance.yahoo.com/video/energy-stocks-decline-coca-cola-141603324.html',\n",
       "  'providerPublishTime': 1650896163,\n",
       "  'type': 'VIDEO'},\n",
       " {'uuid': '9ce09d67-20be-36aa-955c-9f3bd666422e',\n",
       "  'title': 'Dow Jones Extends Losses; Twitter, Elon Musk Set To Strike Deal',\n",
       "  'publisher': \"Investor's Business Daily\",\n",
       "  'link': 'https://finance.yahoo.com/m/9ce09d67-20be-36aa-955c-9f3bd666422e/dow-jones-extends-losses%3B.html',\n",
       "  'providerPublishTime': 1650895724,\n",
       "  'type': 'STORY'}]"
      ]
     },
     "execution_count": 13,
     "metadata": {},
     "output_type": "execute_result"
    }
   ],
   "source": [
    "import yfinance as yf\n",
    "\n",
    "msft = yf.Ticker(\"MSFT\")\n",
    "\n",
    "# get stock info\n",
    "msft.info\n",
    "\n",
    "# get historical market data\n",
    "hist = msft.history(period=\"max\")\n",
    "\n",
    "# show actions (dividends, splits)\n",
    "msft.actions\n",
    "\n",
    "# show dividends\n",
    "msft.dividends\n",
    "\n",
    "# show splits\n",
    "msft.splits\n",
    "\n",
    "# show financials\n",
    "msft.financials\n",
    "msft.quarterly_financials\n",
    "\n",
    "# show major holders\n",
    "msft.major_holders\n",
    "\n",
    "# show institutional holders\n",
    "msft.institutional_holders\n",
    "\n",
    "# show balance sheet\n",
    "msft.balance_sheet\n",
    "msft.quarterly_balance_sheet\n",
    "\n",
    "# show cashflow\n",
    "msft.cashflow\n",
    "msft.quarterly_cashflow\n",
    "\n",
    "# show earnings\n",
    "msft.earnings\n",
    "msft.quarterly_earnings\n",
    "\n",
    "# show sustainability\n",
    "msft.sustainability\n",
    "\n",
    "# show analysts recommendations\n",
    "msft.recommendations\n",
    "\n",
    "# show next event (earnings, etc)\n",
    "msft.calendar\n",
    "\n",
    "# show ISIN code - *experimental*\n",
    "# ISIN = International Securities Identification Number\n",
    "msft.isin\n",
    "\n",
    "# show options expirations\n",
    "msft.options\n",
    "\n",
    "# show news\n",
    "msft.news"
   ]
  },
  {
   "cell_type": "code",
   "execution_count": 3,
   "metadata": {},
   "outputs": [],
   "source": [
    "def get_headers():\n",
    "    return {\"accept\": \"text/html,application/xhtml+xml,application/xml;q=0.9,image/webp,image/apng,*/*;q=0.8,application/signed-exchange;v=b3;q=0.9\",\n",
    "            \"accept-encoding\": \"gzip, deflate, br\",\n",
    "            \"accept-language\": \"en-GB,en;q=0.9,en-US;q=0.8,ml;q=0.7\",\n",
    "            \"cache-control\": \"max-age=0\",\n",
    "            \"dnt\": \"1\",\n",
    "            \"sec-fetch-dest\": \"document\",\n",
    "            \"sec-fetch-mode\": \"navigate\",\n",
    "            \"sec-fetch-site\": \"none\",\n",
    "            \"sec-fetch-user\": \"?1\",\n",
    "            \"upgrade-insecure-requests\": \"1\",\n",
    "            \"user-agent\": \"Mozilla/5.0 (Windows NT 10.0; Win64; x64) AppleWebKit/537.36 (KHTML, like Gecko) Chrome/81.0.4044.122 Safari/537.36\"}\n"
   ]
  },
  {
   "cell_type": "code",
   "execution_count": 9,
   "metadata": {},
   "outputs": [],
   "source": [
    "from lxml import html\n",
    "import requests\n",
    "import json\n",
    "import argparse\n",
    "from collections import OrderedDict"
   ]
  },
  {
   "cell_type": "code",
   "execution_count": 31,
   "metadata": {},
   "outputs": [],
   "source": [
    "def parse(ticker):\n",
    "    url = \"http://finance.yahoo.com/quote/%s?p=%s\" % (ticker, ticker)\n",
    "    response = requests.get(\n",
    "        url, verify=False, headers=get_headers(), timeout=30)\n",
    "    print(response.status_code)\n",
    "    print(\"Parsing %s\" % (url))\n",
    "    parser = html.fromstring(response.text)\n",
    "    summary_table = parser.xpath(\n",
    "        '//div[contains(@data-test,\"summary-table\")]//tr')\n",
    "    summary_data = OrderedDict()\n",
    "    other_details_json_link = \"https://query2.finance.yahoo.com/v10/finance/quoteSummary/AAPL?formatted=true&lang=en-US&region=US&modules=summaryProfile%2CfinancialData%2CrecommendationTrend%2CupgradeDowngradeHistory%2Cearnings%2CdefaultKeyStatistics%2CcalendarEvents&corsDomain=finance.yahoo.com\".format(\n",
    "        ticker)\n",
    "    summary_json_response = requests.get(other_details_json_link)\n",
    "    print(summary_json_response.status_code)\n",
    "    try:\n",
    "        print(summary_json_response.text)\n",
    "        json_loaded_summary = json.loads(summary_json_response.text)\n",
    "        summary = json_loaded_summary[\"quoteSummary\"][\"result\"][0]\n",
    "        y_Target_Est = summary[\"financialData\"][\"targetMeanPrice\"]['raw']\n",
    "        earnings_list = summary[\"calendarEvents\"]['earnings']\n",
    "        eps = summary[\"defaultKeyStatistics\"][\"trailingEps\"]['raw']\n",
    "        datelist = []\n",
    "\n",
    "        for i in earnings_list['earningsDate']:\n",
    "            datelist.append(i['fmt'])\n",
    "        earnings_date = ' to '.join(datelist)\n",
    "\n",
    "        for table_data in summary_table:\n",
    "            raw_table_key = table_data.xpath(\n",
    "                './/td[1]//text()')\n",
    "            raw_table_value = table_data.xpath(\n",
    "                './/td[2]//text()')\n",
    "            table_key = ''.join(raw_table_key).strip()\n",
    "            table_value = ''.join(raw_table_value).strip()\n",
    "            summary_data.update({table_key: table_value})\n",
    "        summary_data.update({'1y Target Est': y_Target_Est, 'EPS (TTM)': eps,\n",
    "                             'Earnings Date': earnings_date, 'ticker': ticker,\n",
    "                             'url': url})\n",
    "        return summary_data\n",
    "    except ValueError as e:\n",
    "        print(e)\n",
    "        print(\"Failed to parse json response\")\n",
    "        return {\"error\": \"Failed to parse json response\"}\n",
    "    except:\n",
    "        return {\"error\": \"Unhandled Error\"}"
   ]
  },
  {
   "cell_type": "code",
   "execution_count": 32,
   "metadata": {},
   "outputs": [
    {
     "name": "stderr",
     "output_type": "stream",
     "text": [
      "c:\\Users\\Shubhendu\\AppData\\Local\\Programs\\Python\\Python39\\lib\\site-packages\\urllib3\\connectionpool.py:1043: InsecureRequestWarning: Unverified HTTPS request is being made to host 'finance.yahoo.com'. Adding certificate verification is strongly advised. See: https://urllib3.readthedocs.io/en/1.26.x/advanced-usage.html#ssl-warnings\n",
      "  warnings.warn(\n"
     ]
    },
    {
     "name": "stdout",
     "output_type": "stream",
     "text": [
      "200\n",
      "Parsing http://finance.yahoo.com/quote/UPST?p=UPST\n",
      "403\n",
      "Forbidden\n",
      "Expecting value: line 1 column 1 (char 0)\n",
      "Failed to parse json response\n"
     ]
    },
    {
     "data": {
      "text/plain": [
       "{'error': 'Failed to parse json response'}"
      ]
     },
     "execution_count": 32,
     "metadata": {},
     "output_type": "execute_result"
    }
   ],
   "source": [
    "parse('UPST')"
   ]
  },
  {
   "cell_type": "code",
   "execution_count": null,
   "metadata": {},
   "outputs": [],
   "source": []
  }
 ],
 "metadata": {
  "interpreter": {
   "hash": "3147364f6d5d45b1fa70d35d518b2227e8aabc110d6c8ce413f1d2d05044edbd"
  },
  "kernelspec": {
   "display_name": "Python 3.9.10 64-bit",
   "language": "python",
   "name": "python3"
  },
  "language_info": {
   "codemirror_mode": {
    "name": "ipython",
    "version": 3
   },
   "file_extension": ".py",
   "mimetype": "text/x-python",
   "name": "python",
   "nbconvert_exporter": "python",
   "pygments_lexer": "ipython3",
   "version": "3.9.10"
  },
  "orig_nbformat": 4
 },
 "nbformat": 4,
 "nbformat_minor": 2
}
